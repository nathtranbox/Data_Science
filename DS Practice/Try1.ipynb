{
 "cells": [
  {
   "cell_type": "markdown",
   "metadata": {},
   "source": [
    "# Level 1 - Programming\n",
    "----------------------\n",
    "You are a data scientist working in the research labs for a large retail organization.\n",
    "Currently you task involves mining for insights from Point-of-Sale systems which track item sales.\n",
    "You have data stored as follows in JSON files (for simplicity think that you have one file 'pos_data.json')\n",
    "\n",
    "Data Sample:\n",
    "\n",
    "[{'item': 'Stella Extra Strong', 'price': '$23.45'},\n",
    "{'item': 'Fosters Mild', 'price': '$12.99'},\n",
    "{'item': 'Heineken', 'price': '$29.45'},\n",
    "{'item': 'Stella Extra Strong', 'price': '$23.45'},\n",
    "{'item': 'Stella Extra Strong', 'price': '$23.45'},\n",
    "{'item': 'Fosters Mild', 'price': '$12.99'}]\n",
    "\n",
    "\n",
    "Your tasks are as follows.\n",
    "1. Write code to read in the JSON file to an appropriate python data structure (to solve Q2)\n",
    "2. Use base python libraries (not pandas) to get the following insights\n",
    " -> Item name with top total sales\n",
    " -> Item name with least total sales\n",
    " -> Item name with the most units sold\n",
    "\n",
    "Base Python libraries only (no 3rd party libraries e.g: numpy, pandas)"
   ]
  },
  {
   "cell_type": "code",
   "execution_count": 21,
   "metadata": {},
   "outputs": [],
   "source": [
    "data = [{'item': 'Stella Extra Strong', 'price': '$23.45'}, {'item': 'Fosters Mild', 'price': '$12.99'}, {'item': 'Heineken', 'price': '$29.45'}, {'item': 'Stella Extra Strong', 'price': '$23.45'}, {'item': 'Stella Extra Strong', 'price': '$23.45'}, {'item': 'Fosters Mild', 'price': '$12.99'}]"
   ]
  },
  {
   "cell_type": "code",
   "execution_count": 22,
   "metadata": {
    "scrolled": true
   },
   "outputs": [
    {
     "data": {
      "text/plain": [
       "[{'item': 'Stella Extra Strong', 'price': '$23.45'},\n",
       " {'item': 'Fosters Mild', 'price': '$12.99'},\n",
       " {'item': 'Heineken', 'price': '$29.45'},\n",
       " {'item': 'Stella Extra Strong', 'price': '$23.45'},\n",
       " {'item': 'Stella Extra Strong', 'price': '$23.45'},\n",
       " {'item': 'Fosters Mild', 'price': '$12.99'}]"
      ]
     },
     "execution_count": 22,
     "metadata": {},
     "output_type": "execute_result"
    }
   ],
   "source": [
    "data"
   ]
  },
  {
   "cell_type": "code",
   "execution_count": 23,
   "metadata": {},
   "outputs": [
    {
     "data": {
      "text/plain": [
       "[{'item': 'Stella Extra Strong', 'price': 23.45},\n",
       " {'item': 'Fosters Mild', 'price': 12.99},\n",
       " {'item': 'Heineken', 'price': 29.45},\n",
       " {'item': 'Stella Extra Strong', 'price': 23.45},\n",
       " {'item': 'Stella Extra Strong', 'price': 23.45},\n",
       " {'item': 'Fosters Mild', 'price': 12.99}]"
      ]
     },
     "execution_count": 23,
     "metadata": {},
     "output_type": "execute_result"
    }
   ],
   "source": [
    "#remove the dollar sign\n",
    "for item_record in data:\n",
    "    item_record['price'] = float(item_record['price'].replace('$',''))\n",
    "data"
   ]
  },
  {
   "cell_type": "code",
   "execution_count": 24,
   "metadata": {},
   "outputs": [
    {
     "data": {
      "text/plain": [
       "33.45"
      ]
     },
     "execution_count": 24,
     "metadata": {},
     "output_type": "execute_result"
    }
   ],
   "source": [
    "#testing by adding a value\n",
    "data[0]['price'] +10"
   ]
  },
  {
   "cell_type": "code",
   "execution_count": 28,
   "metadata": {},
   "outputs": [
    {
     "data": {
      "text/plain": [
       "defaultdict(int,\n",
       "            {'Stella Extra Strong': 70.35,\n",
       "             'Fosters Mild': 25.98,\n",
       "             'Heineken': 29.45})"
      ]
     },
     "execution_count": 28,
     "metadata": {},
     "output_type": "execute_result"
    }
   ],
   "source": [
    "#Summing total sales for each item type\n",
    "from collections import defaultdict\n",
    "\n",
    "c = defaultdict(int)\n",
    "for d in data:\n",
    "    c[d['item']] += d['price']\n",
    "    \n",
    "c"
   ]
  },
  {
   "cell_type": "code",
   "execution_count": 29,
   "metadata": {},
   "outputs": [
    {
     "data": {
      "text/plain": [
       "('Fosters Mild', 25.98)"
      ]
     },
     "execution_count": 29,
     "metadata": {},
     "output_type": "execute_result"
    }
   ],
   "source": [
    "#item name with least total sales\n",
    "min(c.items())"
   ]
  },
  {
   "cell_type": "code",
   "execution_count": 34,
   "metadata": {},
   "outputs": [
    {
     "data": {
      "text/plain": [
       "('Stella Extra Strong', 70.35)"
      ]
     },
     "execution_count": 34,
     "metadata": {},
     "output_type": "execute_result"
    }
   ],
   "source": [
    "#item name with most total sales\n",
    "max(c.items())\n",
    "\n",
    "#max(c.items())[0]"
   ]
  },
  {
   "cell_type": "code",
   "execution_count": 47,
   "metadata": {},
   "outputs": [
    {
     "data": {
      "text/plain": [
       "Counter({'item': 'Stella Extra Strong', 'price': 23.45})"
      ]
     },
     "execution_count": 47,
     "metadata": {},
     "output_type": "execute_result"
    }
   ],
   "source": [
    "from collections import Counter\n",
    "counter = Counter(data[0])\n",
    "#for d in data[1:]:\n",
    "    #counter += Counter(d)\n",
    "    \n",
    "counter"
   ]
  },
  {
   "cell_type": "code",
   "execution_count": 70,
   "metadata": {},
   "outputs": [
    {
     "name": "stdout",
     "output_type": "stream",
     "text": [
      "{'Stella Extra Strong': 3, 'Fosters Mild': 2, 'Heineken': 1}\n"
     ]
    }
   ],
   "source": [
    "a = []\n",
    "for i in data:\n",
    "    a.append(i['item'])\n",
    "    \n",
    "frequency = {}\n",
    "for item in a:\n",
    "   frequency[item] = a.count(item)\n",
    "print(frequency)"
   ]
  },
  {
   "cell_type": "code",
   "execution_count": 68,
   "metadata": {},
   "outputs": [
    {
     "data": {
      "text/plain": [
       "('Stella Extra Strong', 3)"
      ]
     },
     "execution_count": 68,
     "metadata": {},
     "output_type": "execute_result"
    }
   ],
   "source": [
    "max(frequency.items())"
   ]
  },
  {
   "cell_type": "code",
   "execution_count": 69,
   "metadata": {},
   "outputs": [
    {
     "name": "stdout",
     "output_type": "stream",
     "text": [
      "{'Stella Extra Strong': 3, 'Fosters Mild': 2, 'Heineken': 1}\n"
     ]
    }
   ],
   "source": [
    "print(frequency)"
   ]
  },
  {
   "cell_type": "code",
   "execution_count": null,
   "metadata": {},
   "outputs": [],
   "source": []
  }
 ],
 "metadata": {
  "kernelspec": {
   "display_name": "Python 3",
   "language": "python",
   "name": "python3"
  },
  "language_info": {
   "codemirror_mode": {
    "name": "ipython",
    "version": 3
   },
   "file_extension": ".py",
   "mimetype": "text/x-python",
   "name": "python",
   "nbconvert_exporter": "python",
   "pygments_lexer": "ipython3",
   "version": "3.7.6"
  }
 },
 "nbformat": 4,
 "nbformat_minor": 4
}
