{
 "cells": [
  {
   "cell_type": "markdown",
   "metadata": {},
   "source": [
    "This exercise will require you to pull some data from the Qunadl API. Qaundl is currently the most widely used aggregator of financial market data."
   ]
  },
  {
   "cell_type": "markdown",
   "metadata": {},
   "source": [
    "As a first step, you will need to register a free account on the http://www.quandl.com website."
   ]
  },
  {
   "cell_type": "markdown",
   "metadata": {},
   "source": [
    "After you register, you will be provided with a unique API key, that you should store:"
   ]
  },
  {
   "cell_type": "code",
   "execution_count": 1,
   "metadata": {},
   "outputs": [],
   "source": [
    "# Store the API key as a string - according to PEP8, constants are always named in all upper case\n",
    "API_KEY = 'ALREADY_DELETED'"
   ]
  },
  {
   "cell_type": "markdown",
   "metadata": {},
   "source": [
    "Qaundl has a large number of data sources, but, unfortunately, most of them require a Premium subscription. Still, there are also a good number of free datasets."
   ]
  },
  {
   "cell_type": "markdown",
   "metadata": {},
   "source": [
    "For this mini project, we will focus on equities data from the Frankfurt Stock Exhange (FSE), which is available for free. We'll try and analyze the stock prices of a company called Carl Zeiss Meditec, which manufactures tools for eye examinations, as well as medical lasers for laser eye surgery: https://www.zeiss.com/meditec/int/home.html. The company is listed under the stock ticker AFX_X."
   ]
  },
  {
   "cell_type": "markdown",
   "metadata": {},
   "source": [
    "You can find the detailed Quandl API instructions here: https://docs.quandl.com/docs/time-series"
   ]
  },
  {
   "cell_type": "markdown",
   "metadata": {},
   "source": [
    "While there is a dedicated Python package for connecting to the Quandl API, we would prefer that you use the *requests* package, which can be easily downloaded using *pip* or *conda*. You can find the documentation for the package here: http://docs.python-requests.org/en/master/ "
   ]
  },
  {
   "cell_type": "markdown",
   "metadata": {},
   "source": [
    "Finally, apart from the *requests* package, you are encouraged to not use any third party Python packages, such as *pandas*, and instead focus on what's available in the Python Standard Library (the *collections* module might come in handy: https://pymotw.com/3/collections/ ).\n",
    "Also, since you won't have access to DataFrames, you are encouraged to us Python's native data structures - preferably dictionaries, though some questions can also be answered using lists.\n",
    "You can read more on these data structures here: https://docs.python.org/3/tutorial/datastructures.html"
   ]
  },
  {
   "cell_type": "markdown",
   "metadata": {},
   "source": [
    "Keep in mind that the JSON responses you will be getting from the API map almost one-to-one to Python's dictionaries. Unfortunately, they can be very nested, so make sure you read up on indexing dictionaries in the documentation provided above."
   ]
  },
  {
   "cell_type": "code",
   "execution_count": 3,
   "metadata": {},
   "outputs": [],
   "source": [
    "# First, import the relevant modules\n",
    "import requests\n",
    "import json"
   ]
  },
  {
   "cell_type": "code",
   "execution_count": 16,
   "metadata": {},
   "outputs": [],
   "source": [
    "# Now, call the Quandl API and pull out a small sample of the data (only one day) to get a glimpse\n",
    "# into the JSON structure that will be returned\n",
    "afx_x_test = requests.get('https://www.quandl.com/api/v3/datasets/FSE/AFX_X.json?start_date=2014-12-02&end_date=2014-12-02&api_key=UVdcV289MQpc_-7sRyp_')"
   ]
  },
  {
   "cell_type": "code",
   "execution_count": 17,
   "metadata": {},
   "outputs": [
    {
     "name": "stdout",
     "output_type": "stream",
     "text": [
      "{'dataset': {'id': 10095370, 'dataset_code': 'AFX_X', 'database_code': 'FSE', 'name': 'Carl Zeiss Meditec (AFX_X)', 'description': 'Stock Prices for Carl Zeiss Meditec (2020-01-31) from the Frankfurt Stock Exchange.<br><br>Trading System: Xetra<br><br>ISIN: DE0005313704', 'refreshed_at': '2020-02-14T22:18:45.756Z', 'newest_available_date': '2020-02-14', 'oldest_available_date': '2000-06-07', 'column_names': ['Date', 'Open', 'High', 'Low', 'Close', 'Change', 'Traded Volume', 'Turnover', 'Last Price of the Day', 'Daily Traded Units', 'Daily Turnover'], 'frequency': 'daily', 'type': 'Time Series', 'premium': False, 'limit': None, 'transform': None, 'column_index': None, 'start_date': '2014-12-02', 'end_date': '2014-12-02', 'data': [['2014-12-02', 22.02, 22.05, 21.85, 21.94, None, 20556.0, 451090.0, None, None, None]], 'collapse': None, 'order': None, 'database_id': 6129}}\n"
     ]
    }
   ],
   "source": [
    "# Inspect the JSON structure of the object you created, and take note of how nested it is,\n",
    "# as well as the overall structure\n",
    "print(afx_x_test.json())"
   ]
  },
  {
   "cell_type": "markdown",
   "metadata": {},
   "source": [
    "These are your tasks for this mini project:\n",
    "\n",
    "1. Collect data from the Franfurt Stock Exchange, for the ticker AFX_X, for the whole year 2017 (keep in mind that the date format is YYYY-MM-DD).\n",
    "2. Convert the returned JSON object into a Python dictionary.\n",
    "3. Calculate what the highest and lowest opening prices were for the stock in this period.\n",
    "4. What was the largest change in any one day (based on High and Low price)?\n",
    "5. What was the largest change between any two days (based on Closing Price)?\n",
    "6. What was the average daily trading volume during this year?\n",
    "7. (Optional) What was the median trading volume during this year. (Note: you may need to implement your own function for calculating the median.)"
   ]
  },
  {
   "cell_type": "markdown",
   "metadata": {
    "collapsed": true
   },
   "source": [
    "# 1. Collect data from the Franfurt Stock Exchange, for the ticker AFX_X, for the whole year 2017"
   ]
  },
  {
   "cell_type": "code",
   "execution_count": 21,
   "metadata": {},
   "outputs": [],
   "source": [
    "# Requesting AFX_X stock data from Quandl API with specifying the date range for 2017 \n",
    "afx_x_2017 = requests.get('https://www.quandl.com/api/v3/datasets/FSE/AFX_X.json?start_date=2017-01-01&end_date=2017-12-31&api_key=UVdcV289MQpc_-7sRyp_')\n"
   ]
  },
  {
   "cell_type": "markdown",
   "metadata": {},
   "source": [
    "# 2. Convert the returned JSON object into a Python dictionary."
   ]
  },
  {
   "cell_type": "code",
   "execution_count": 25,
   "metadata": {},
   "outputs": [],
   "source": [
    "#Store the data as json\n",
    "data = afx_x_2017.json()"
   ]
  },
  {
   "cell_type": "code",
   "execution_count": 49,
   "metadata": {},
   "outputs": [
    {
     "name": "stdout",
     "output_type": "stream",
     "text": [
      "-0.1599999999999966\n",
      "0.21999999999999886\n",
      "-0.5\n",
      "0.0799999999999983\n",
      "-0.12999999999999545\n",
      "0.38999999999999346\n",
      "0.9600000000000009\n",
      "-0.6099999999999994\n",
      "0.6600000000000037\n",
      "0.4200000000000017\n",
      "-0.6600000000000037\n",
      "-0.28999999999999915\n",
      "-0.020000000000003126\n",
      "-0.6499999999999986\n",
      "-0.5799999999999983\n",
      "0.35999999999999943\n",
      "-0.10999999999999943\n",
      "-1.2800000000000011\n",
      "-0.1599999999999966\n",
      "-0.9500000000000028\n",
      "0.5\n",
      "-0.04999999999999716\n",
      "-0.09000000000000341\n",
      "0.09000000000000341\n",
      "-0.4000000000000057\n",
      "-0.4099999999999966\n",
      "-1.3500000000000014\n",
      "-0.19999999999999574\n",
      "0.18999999999999773\n",
      "0.01999999999999602\n",
      "0.9500000000000028\n",
      "0.3400000000000034\n",
      "0.0\n",
      "-1.1300000000000026\n",
      "0.259999999999998\n",
      "-1.2100000000000009\n",
      "-0.269999999999996\n",
      "-0.020000000000003126\n",
      "-0.6999999999999957\n",
      "0.769999999999996\n",
      "-0.28000000000000114\n",
      "0.6499999999999986\n",
      "-1.0\n",
      "-0.4099999999999966\n",
      "-0.14999999999999858\n",
      "0.14999999999999858\n",
      "-0.13000000000000256\n",
      "0.13000000000000256\n",
      "0.7700000000000031\n",
      "0.18999999999999773\n",
      "-0.4100000000000037\n",
      "-0.14999999999999858\n",
      "0.030000000000001137\n",
      "-0.14000000000000057\n",
      "0.5500000000000043\n",
      "-0.10000000000000142\n",
      "0.259999999999998\n",
      "0.04999999999999716\n",
      "0.060000000000002274\n",
      "-1.1300000000000026\n",
      "-0.8099999999999952\n",
      "-0.6099999999999994\n",
      "-1.5200000000000031\n",
      "0.3299999999999983\n",
      "-0.29999999999999716\n",
      "-0.00999999999999801\n",
      "-0.6000000000000014\n",
      "0.5300000000000011\n",
      "0.44999999999999574\n",
      "-0.1699999999999946\n",
      "0.14999999999999858\n",
      "0.10000000000000142\n",
      "-0.07000000000000028\n",
      "0.27999999999999403\n",
      "0.12000000000000455\n",
      "-0.17999999999999972\n",
      "0.10000000000000142\n",
      "-0.22000000000000597\n",
      "0.07000000000000028\n",
      "-0.01999999999999602\n",
      "-0.19000000000000483\n",
      "-0.509999999999998\n",
      "0.03999999999999915\n",
      "-0.0899999999999963\n",
      "0.05999999999999517\n",
      "0.23000000000000398\n",
      "0.5499999999999972\n",
      "0.020000000000003126\n",
      "0.0\n",
      "-0.45000000000000284\n",
      "0.14999999999999858\n",
      "0.09000000000000341\n",
      "-0.45000000000000284\n",
      "0.23000000000000398\n",
      "0.01999999999999602\n",
      "-0.35999999999999943\n",
      "-0.259999999999998\n",
      "0.13000000000000256\n",
      "2.559999999999995\n",
      "0.5900000000000034\n",
      "0.10999999999999943\n",
      "-0.10000000000000142\n",
      "0.5900000000000034\n",
      "-0.10999999999999943\n",
      "-0.15000000000000568\n",
      "-0.3299999999999983\n",
      "0.28000000000000114\n",
      "-0.09000000000000341\n",
      "-0.3399999999999963\n",
      "-0.21000000000000085\n",
      "0.8299999999999983\n",
      "0.21999999999999886\n",
      "-0.0899999999999963\n",
      "-0.5700000000000003\n",
      "0.6000000000000014\n",
      "-0.07000000000000028\n",
      "-0.5799999999999983\n",
      "0.0\n",
      "-0.75\n",
      "0.5\n",
      "-0.1700000000000017\n",
      "0.0899999999999963\n",
      "0.5700000000000003\n",
      "-0.39000000000000057\n",
      "0.9500000000000028\n",
      "-0.3100000000000023\n",
      "-0.23999999999999488\n",
      "0.4799999999999969\n",
      "1.1499999999999986\n",
      "0.38000000000000256\n",
      "-0.21999999999999886\n",
      "0.29999999999999716\n",
      "-0.29999999999999716\n",
      "0.37999999999999545\n",
      "-0.7299999999999969\n",
      "-0.00999999999999801\n",
      "-0.9600000000000009\n",
      "0.6599999999999966\n",
      "-0.00999999999999801\n",
      "-0.00999999999999801\n",
      "1.1299999999999955\n",
      "-1.1699999999999946\n",
      "1.1599999999999966\n",
      "0.0\n",
      "-0.4399999999999977\n",
      "-0.46999999999999886\n",
      "-0.6600000000000037\n",
      "0.1600000000000037\n",
      "-0.7000000000000028\n",
      "-0.020000000000003126\n",
      "-0.519999999999996\n",
      "-0.25\n",
      "-0.6300000000000026\n",
      "-0.05999999999999517\n",
      "0.27999999999999403\n",
      "-0.14000000000000057\n",
      "0.21000000000000085\n",
      "1.1200000000000045\n",
      "-0.1700000000000017\n",
      "-0.14999999999999858\n",
      "0.00999999999999801\n",
      "-1.7199999999999989\n",
      "0.01999999999999602\n",
      "-1.0599999999999952\n",
      "0.509999999999998\n",
      "-0.25\n",
      "-0.6000000000000014\n",
      "0.25\n",
      "-0.4299999999999997\n",
      "0.0\n",
      "0.4399999999999977\n",
      "-0.6599999999999966\n",
      "0.39000000000000057\n",
      "-0.0799999999999983\n",
      "-0.490000000000002\n",
      "0.6099999999999994\n",
      "0.6799999999999997\n",
      "-0.6099999999999994\n",
      "0.20000000000000284\n",
      "0.0\n",
      "0.0\n",
      "0.0\n",
      "-0.45000000000000284\n",
      "-0.07000000000000028\n",
      "-0.259999999999998\n",
      "-0.37000000000000455\n",
      "0.05000000000000426\n",
      "-0.28999999999999915\n",
      "-1.1700000000000017\n",
      "0.3399999999999963\n",
      "-0.22999999999999687\n",
      "0.259999999999998\n",
      "-0.7899999999999991\n",
      "-0.36999999999999744\n",
      "0.0899999999999963\n",
      "0.020000000000003126\n",
      "-0.020000000000003126\n",
      "2.039999999999999\n",
      "0.990000000000002\n",
      "-0.6299999999999955\n",
      "0.11999999999999744\n",
      "-0.21000000000000085\n",
      "0.04999999999999716\n",
      "0.0\n",
      "0.10000000000000142\n",
      "0.0\n",
      "0.28000000000000114\n",
      "-0.259999999999998\n",
      "-0.020000000000003126\n",
      "-0.21999999999999886\n",
      "-0.00999999999999801\n",
      "0.030000000000001137\n",
      "-0.35999999999999943\n",
      "-0.45000000000000284\n",
      "-0.6499999999999986\n",
      "0.04999999999999716\n",
      "-0.0899999999999963\n",
      "-0.25\n",
      "-0.47000000000000597\n",
      "0.04000000000000625\n",
      "-0.3100000000000023\n",
      "0.00999999999999801\n",
      "-0.3500000000000014\n",
      "0.1600000000000037\n",
      "-1.4699999999999989\n",
      "-0.8100000000000023\n",
      "-0.20000000000000284\n",
      "-0.1599999999999966\n",
      "-0.25\n",
      "0.46000000000000085\n",
      "-0.030000000000001137\n",
      "-0.13000000000000256\n",
      "-1.3799999999999955\n",
      "0.5899999999999963\n",
      "0.14999999999999858\n",
      "-0.4099999999999966\n",
      "-0.060000000000002274\n",
      "-0.6099999999999994\n",
      "-0.1599999999999966\n",
      "0.10999999999999943\n",
      "0.3299999999999983\n",
      "0.3999999999999986\n",
      "0.09000000000000341\n",
      "0.0799999999999983\n",
      "-0.21999999999999886\n",
      "0.04999999999999716\n",
      "0.5200000000000031\n",
      "-0.5100000000000051\n",
      "-0.23999999999999488\n",
      "0.36999999999999744\n",
      "0.020000000000003126\n",
      "0.12999999999999545\n",
      "0.28999999999999915\n",
      "0.3200000000000003\n"
     ]
    }
   ],
   "source": [
    "#The 'Change' column was not pre-computed. The calculation can be done by:\n",
    "for i in range (len(data['dataset']['data'])):\n",
    "    if i != 0:\n",
    "        print(data['dataset']['data'][i][4]-data['dataset']['data'][i-1][4])"
   ]
  },
  {
   "cell_type": "code",
   "execution_count": 50,
   "metadata": {},
   "outputs": [],
   "source": [
    "# The computations in questions will involve the columns 'Open','High','Low','Close','Traded Volume' which can be sliced as \n",
    "# [1],[2],[3],[4] and [6] respectively. The change can be calculated as the difference between High and Low.\n",
    "\n",
    "#Making empty list to initialize extracting data\n",
    "data_open = []\n",
    "data_high = []\n",
    "data_low = []\n",
    "data_close = []\n",
    "data_change = [0]\n",
    "data_change_day = []\n",
    "data_volume = []\n",
    "\n",
    "#store daily data\n",
    "for i in range (len(data['dataset']['data'])):\n",
    "    opening = data['dataset']['data'][i][1]\n",
    "    high = data['dataset']['data'][i][2]\n",
    "    low = data['dataset']['data'][i][3]\n",
    "    closing = data['dataset']['data'][i][4]\n",
    "    change = data['dataset']['data'][i][5]\n",
    "    traded_volume = data['dataset']['data'][i][6]\n",
    "    \n",
    "    #build up the data from the empty lists previously defined\n",
    "    if  isinstance(opening,float):\n",
    "        data_open.append(opening)\n",
    "    if isinstance(closing,float):\n",
    "        data_high.append(closing)\n",
    "    if isinstance(high,float) and isinstance(low,float):\n",
    "        change_day = high - low\n",
    "        data_change_day.append(change_day)\n",
    "    if isinstance(traded_volume,float):\n",
    "        data_volume.append(traded_volume)\n",
    "    if i != 0 :\n",
    "        change = data['dataset']['data'][i][4]-data['dataset']['data'][i-1][4]\n",
    "        data_change.append(change)"
   ]
  },
  {
   "cell_type": "markdown",
   "metadata": {},
   "source": [
    "# 3. Calculate what the highest and lowest opening prices were for the stock in this period."
   ]
  },
  {
   "cell_type": "code",
   "execution_count": 35,
   "metadata": {},
   "outputs": [
    {
     "name": "stdout",
     "output_type": "stream",
     "text": [
      "Highest opening price:53.11\n",
      "Lowest opening price:34.0\n"
     ]
    }
   ],
   "source": [
    "print('Highest opening price:' + str(max(data_open)))\n",
    "print('Lowest opening price:' + str(min(data_open)))"
   ]
  },
  {
   "cell_type": "markdown",
   "metadata": {},
   "source": [
    "# 4. What was the largest change in any one day (based on High and Low price)?"
   ]
  },
  {
   "cell_type": "code",
   "execution_count": 36,
   "metadata": {},
   "outputs": [
    {
     "name": "stdout",
     "output_type": "stream",
     "text": [
      "Largest change in any one day:2.8100000000000023\n"
     ]
    }
   ],
   "source": [
    "print('Largest change in any one day:' + str(max(data_change_day)))"
   ]
  },
  {
   "cell_type": "markdown",
   "metadata": {},
   "source": [
    "# 5. What was the largest change between any two days (based on Closing Price)?"
   ]
  },
  {
   "cell_type": "code",
   "execution_count": 38,
   "metadata": {},
   "outputs": [
    {
     "name": "stdout",
     "output_type": "stream",
     "text": [
      "[0, -0.44]\n"
     ]
    }
   ],
   "source": [
    "print(data_change)"
   ]
  },
  {
   "cell_type": "code",
   "execution_count": 51,
   "metadata": {},
   "outputs": [
    {
     "name": "stdout",
     "output_type": "stream",
     "text": [
      "Largest change between any two days:2.559999999999995\n"
     ]
    }
   ],
   "source": [
    "print('Largest change between any two days:'+ str(max(data_change)))"
   ]
  },
  {
   "cell_type": "markdown",
   "metadata": {},
   "source": [
    "# 6. What was the average daily trading volume during this year?"
   ]
  },
  {
   "cell_type": "code",
   "execution_count": 52,
   "metadata": {},
   "outputs": [
    {
     "name": "stdout",
     "output_type": "stream",
     "text": [
      "Average daily trading volume:89124.33725490196\n"
     ]
    }
   ],
   "source": [
    "avg_trading_vol = sum(data_volume)/len(data_volume)\n",
    "print('Average daily trading volume:'+str(avg_trading_vol))"
   ]
  },
  {
   "cell_type": "markdown",
   "metadata": {},
   "source": [
    "# 7. What was the median trading volume during this year?"
   ]
  },
  {
   "cell_type": "code",
   "execution_count": 54,
   "metadata": {},
   "outputs": [
    {
     "name": "stdout",
     "output_type": "stream",
     "text": [
      "Median trading volume:76286.0\n"
     ]
    }
   ],
   "source": [
    "# Median value can be obatined after sorting the data. The position at the middle can be picked\n",
    "sorted_vol = sorted(data_volume)\n",
    "median = sorted_vol[int(len(sorted_vol)/2)]\n",
    "print('Median trading volume:' + str(median))"
   ]
  },
  {
   "cell_type": "code",
   "execution_count": null,
   "metadata": {},
   "outputs": [],
   "source": []
  }
 ],
 "metadata": {
  "kernelspec": {
   "display_name": "Python 3",
   "language": "python",
   "name": "python3"
  },
  "language_info": {
   "codemirror_mode": {
    "name": "ipython",
    "version": 3
   },
   "file_extension": ".py",
   "mimetype": "text/x-python",
   "name": "python",
   "nbconvert_exporter": "python",
   "pygments_lexer": "ipython3",
   "version": "3.7.4"
  }
 },
 "nbformat": 4,
 "nbformat_minor": 2
}
